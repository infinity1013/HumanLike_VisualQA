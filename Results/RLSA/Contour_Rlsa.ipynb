{
 "cells": [
  {
   "cell_type": "code",
   "execution_count": 1,
   "metadata": {},
   "outputs": [],
   "source": [
    "import cv2\n",
    "import numpy as np"
   ]
  },
  {
   "cell_type": "code",
   "execution_count": 3,
   "metadata": {},
   "outputs": [],
   "source": [
    "image = cv2.imread('struct_image.png') # reading the image\n",
    "#image = cv2.imread('Screenshot.png')\n",
    "gray = cv2.cvtColor(image, cv2.COLOR_BGR2GRAY) # convert2grayscale\n",
    "(thresh, binary) = cv2.threshold(gray, 150, 255, cv2.THRESH_BINARY | cv2.THRESH_OTSU) # convert2binary\n",
    "#cv2.imshow('binary', binary)\n",
    "#cv2.imwrite('binary.png', binary)\n",
    "\n",
    "# find contours\n",
    "contours, _ = cv2.findContours(~binary,cv2.RETR_EXTERNAL,cv2.CHAIN_APPROX_SIMPLE)\n",
    "#image is the name of the image\n",
    "#Mode is Contour retrieval mode\n",
    "#Method is Contour approximation method\n",
    "for contour in contours:\n",
    "    #draw a rectangle around those contours on main image\n",
    "    [x,y,w,h] = cv2.boundingRect(contour)\n",
    "    cv2.rectangle(image, (x,y), (x+w,y+h), (0, 255, 0), 1)"
   ]
  },
  {
   "cell_type": "code",
   "execution_count": null,
   "metadata": {},
   "outputs": [],
   "source": [
    "cv2.imshow('contour', image)\n",
    "cv2.imwrite('contours.png', image)\n",
    "cv2.waitKey(0)\n",
    "cv2.destroyAllWindows()"
   ]
  },
  {
   "cell_type": "code",
   "execution_count": 4,
   "metadata": {},
   "outputs": [
    {
     "data": {
      "text/plain": [
       "True"
      ]
     },
     "execution_count": 4,
     "metadata": {},
     "output_type": "execute_result"
    }
   ],
   "source": [
    "mask = np.ones(image.shape[:2], dtype=\"uint8\") * 255 # create blank image of same dimension of the original image\n",
    "contours, _= cv2.findContours(~binary,cv2.RETR_EXTERNAL,cv2.CHAIN_APPROX_SIMPLE) \n",
    "heights = [cv2.boundingRect(contour)[3] for contour in contours] # collecting heights of each contour\n",
    "avgheight = sum(heights)/len(heights) # average height\n",
    "# finding the larger contours\n",
    "# Applying Height heuristic\n",
    "for c in contours:\n",
    "    [x,y,w,h] = cv2.boundingRect(c)\n",
    "    if 2*h > avgheight:\n",
    "        cv2.drawContours(mask, [c], -1, 0, -1)\n",
    "# cv2.imshow('filter', mask)\n",
    "cv2.imwrite('filter.png', mask)\n",
    "\n"
   ]
  },
  {
   "cell_type": "code",
   "execution_count": 4,
   "metadata": {},
   "outputs": [],
   "source": [
    "from pythonRLSA import rlsa\n",
    "import math\n",
    "x, y = mask.shape\n",
    "value_x = max(math.ceil(x/100),math.ceil(y/100))+20 #heuristic\n",
    "value_y = max(math.ceil(x/100),math.ceil(y/100))+8 #heuristic\n",
    "mask1 = rlsa.rlsa(mask, False, True, value_y) #rlsa application\n",
    "mask2= rlsa.rlsa(mask, True,False, value_x) #rlsa application\n",
    "# cv2.imshow('rlsah', mask)\n",
    "mask=mask1&mask2\n"
   ]
  },
  {
   "cell_type": "code",
   "execution_count": 5,
   "metadata": {},
   "outputs": [
    {
     "name": "stdout",
     "output_type": "stream",
     "text": [
      "[[255 255 255 ... 255 255 255]\n",
      " [255 255 255 ... 255 255 255]\n",
      " [255 255 255 ... 255 255 255]\n",
      " ...\n",
      " [255 255 255 ... 255 255 255]\n",
      " [255 255 255 ... 255 255 255]\n",
      " [255 255 255 ... 255 255 255]]\n"
     ]
    }
   ],
   "source": [
    "mask3 = np.ones((3,3), dtype=\"uint8\") * 255 # blank 3*3 matrix\n",
    "img_dilation = cv2.dilate(mask, mask3, iterations=2)\n",
    "cv2.imwrite('Dilation.png', img_dilation)\n",
    "print(img_dilation)"
   ]
  },
  {
   "cell_type": "code",
   "execution_count": 6,
   "metadata": {},
   "outputs": [],
   "source": [
    "def dfs(x,y):\n",
    "    global x_min,y_min,x_max,y_max\n",
    "    if(x>0 and flag[x-1][y]==255 and img_dilation[x-1][y]==0):\n",
    "        flag[x-1][y]=0;\n",
    "        x_min=min(x_min,x-1)\n",
    "        dfs(x-1,y)\n",
    "        \n",
    "    if(x<r-1 and flag[x+1][y]==255 and img_dilation[x+1][y]==0):\n",
    "        flag[x+1][y]=0;\n",
    "        x_max=max(x_max,x+1)\n",
    "        dfs(x+1,y)\n",
    "        \n",
    "    if(y>0 and flag[x][y-1]==255 and img_dilation[x][y-1]==0):\n",
    "        flag[x][y-1]=0;\n",
    "        y_min=min(y_min,y-1)\n",
    "        dfs(x,y-1)\n",
    "        \n",
    "    if(y<c-1 and flag[x][y+1]==255 and img_dilation[x][y+1]==0):\n",
    "        flag[x][y+1]=0;\n",
    "        y_max=max(y_max,y+1)\n",
    "        dfs(x,y+1)  \n",
    "    return"
   ]
  },
  {
   "cell_type": "code",
   "execution_count": null,
   "metadata": {},
   "outputs": [
    {
     "name": "stdout",
     "output_type": "stream",
     "text": [
      "27 274\n",
      "[[27, 274, 16, 197]]\n",
      "yes\n",
      "96 192\n"
     ]
    }
   ],
   "source": [
    "global flag\n",
    "flag= np.ones(gray.shape[:2], dtype=\"uint8\") * 255 \n",
    "li=[]\n",
    "r=image.shape[0]\n",
    "c=image.shape[1]\n",
    "global x_min,y_min,x_max,y_max\n",
    "for i in range(0,r):\n",
    "    \n",
    "    for j in range(0,c):\n",
    "        if(flag[i][j]!=0 and img_dilation[i][j]==0):\n",
    "            print (i,j)\n",
    "            x=i\n",
    "            y=j\n",
    "            flag[x][y]=0\n",
    "            x_min=x\n",
    "            x_max=x\n",
    "            y_min=y\n",
    "            y_max=y\n",
    "            dfs(x,y)\n",
    "            w=x_max-x_min\n",
    "            h=y_max-y_min\n",
    "            li.append([x,y,w,h])\n",
    "            print(li)\n",
    "            print('yes')\n",
    "            \n",
    "print(li)"
   ]
  },
  {
   "cell_type": "code",
   "execution_count": 6,
   "metadata": {},
   "outputs": [
    {
     "data": {
      "text/plain": [
       "True"
      ]
     },
     "execution_count": 6,
     "metadata": {},
     "output_type": "execute_result"
    }
   ],
   "source": [
    "cv2.rectangle(image, (192,96), (205,105), (255, 255, 0), 1)\n",
    "cv2.imwrite('bb.png', image)"
   ]
  },
  {
   "cell_type": "code",
   "execution_count": 76,
   "metadata": {},
   "outputs": [],
   "source": [
    "contours, _ = cv2.findContours(~mask,cv2.RETR_EXTERNAL,cv2.CHAIN_APPROX_SIMPLE) # find contours\n",
    "mask2 = np.ones(image.shape, dtype=\"uint8\") * 255 # blank 3 layer image\n",
    "for contour in contours:\n",
    "    [x, y, w, h] = cv2.boundingRect(contour)\n",
    "    if w > 0.60*image.shape[1]: # width heuristic applied\n",
    "        title = image[y: y+h, x: x+w] \n",
    "        mask2[y: y+h, x: x+w] = title # copied title contour onto the blank image\n",
    "        image[y: y+h, x: x+w] = 255 # nullified the title contour on original image\n",
    "cv2.imshow('title', mask2)\n",
    "cv2.imwrite('title.png', mask2)\n",
    "cv2.imshow('content', image)\n",
    "cv2.imwrite('content.png', image)\n",
    "cv2.waitKey(0)\n",
    "cv2.destroyAllWindows()"
   ]
  },
  {
   "cell_type": "code",
   "execution_count": 77,
   "metadata": {},
   "outputs": [
    {
     "name": "stdout",
     "output_type": "stream",
     "text": [
      "Every day, peopl aroiind the worldluse maps. WWhefhen if is an girplaue pilot on Businessman, ous wif\n",
      "on museum group, caps have always and will continus to providle usefial infixsatiom fim all\n",
      "\n",
      "Mapping ths World falkis about this uses offmaps, as welll as how fo Giffdrentiats babkean th Eps ofraap\n",
      "projection andl fjps ofimap,\n",
      "nlthis series, we ftavel f0 thes past and Learn about historical mapmakers, torn Olbiadius Ptolkxny (ia\n",
      "\n",
      " \n",
      "\n",
      " \n",
      "\n",
      " \n",
      "\n",
      "tmvolor proton would be used in uaz ways. We coal se it im population concent,\n",
      "\n",
      " \n",
      "\n",
      "bighiways, Land alewation, and so ony ings!\n",
      "Eon example, swe coil mike wtopographie map ofthis U.S, hich stn ll elevation. We oid ake\n",
      "\n",
      "  \n",
      "   \n",
      "\n",
      " \n",
      "\n",
      " \n",
      "\n",
      " \n",
      "\n",
      " \n",
      "\n",
      "it could even be amp thai Shows thi 90 states, thir capitals anil borékens|\n",
      "excursion is fhe usan Fal, wbiere wwe sexe sous Hypothetical solutions\n",
      "Cumently, wwe are working on batter virtual map technology,\n",
      "\n",
      "(Nowy, scientists baive Beer abls fo put maps on phones. Buck in this early U900s, peoples bail ta lug alot of\n",
      "around fo find youn way from place fo place, onjust keep asking fin directions. Now, all\n",
      "information is oma phloue on pluball positioning system (GPS). is amazing hw muchlenaps have\n",
      "Chanel fechnlogy andlthis world ims century.\n",
      "\n",
      "Mapping th World §-Book set goes into amazing Levels ofldetaill Ut is a foug read) But it gives am\n",
      "ftumense range and amount ofinfoxmation that you would uot find in any offen ook on series om maps.\n",
      "This flowing wway this chapters an book’ are organized makes if easy fo link passages Buu different\n",
      "Book’ imthis serias fogethin. Mapping thls Worl is aitréasurs: Box; filled with this se<dls offcartoenaphiy.\n",
      "jcartographiy, Beaueficial to those: ws want tis\n",
      "oftmapping ssl Bs swwect fi al wis\n",
      "\n",
      "    \n",
      "\n",
      "   \n",
      "\n",
      " \n",
      "\n",
      " \n",
      "\n",
      "   \n",
      "\n",
      "   \n",
      "\n",
      " \n",
      " \n",
      "\f",
      "\n",
      "\f",
      "\n"
     ]
    }
   ],
   "source": [
    "import pytesseract\n",
    "try:\n",
    "    from PIL import Image\n",
    "except ImportError:\n",
    "    import Image\n",
    "pytesseract.pytesseract.tesseract_cmd = r'F:\\Program Files\\Tesseract-OCR\\tesseract'\n",
    "title = pytesseract.image_to_string(Image.fromarray(mask2))\n",
    "content = pytesseract.image_to_string(Image.fromarray(image))\n",
    "print(title)\n",
    "print(content)"
   ]
  },
  {
   "cell_type": "code",
   "execution_count": 36,
   "metadata": {},
   "outputs": [
    {
     "name": "stdout",
     "output_type": "stream",
     "text": [
      "568480\n"
     ]
    }
   ],
   "source": [
    "\"\"\"But the pictures, lines that exist in the image might cause the issue.\n",
    "If the pictures exist close to the title might connect when we perform Vertical RLSA. So clean the image before.\n",
    "\n",
    "To avoid the complications, remove the pictures and lines present in the image. \n",
    "Pictures can be removed by the area, width, height of the contour. Pictures surely will be the largest contours of the image.\n",
    "Lines can be detected and separated out by Canny edge detection and Houghlines algorithms.\n",
    "\n",
    "Detect lines and pictures and draw over another binary image and do bitwise-and with the original image to subtract out noise.\n",
    "\"\"\"\n",
    "\n",
    "minLineLength = 100\n",
    "maxLineGap = 50\n",
    "def lines_extraction(gray):\n",
    "    #this function extracts the lines from the binary image. Cleaning process.\n",
    "    edges = cv2.Canny(gray, 75, 150)\n",
    "    lines = cv2.HoughLinesP(edges, 1, np.pi/180, 100, minLineLength, maxLineGap)\n",
    "    return lines\n",
    "mask = np.ones(image.shape[:2], dtype=\"uint8\") * 255 # create a white image\n",
    "#print(gray.size)\n",
    "lines = lines_extraction(gray) # extract lines\n",
    "try:\n",
    "    for line in lines: # write lines to mask\n",
    "        x1, y1, x2, y2 = line[0]\n",
    "        cv2.line(mask, (x1, y1), (x2, y2), (0, 255, 0), 3)\n",
    "except TypeError:\n",
    "    pass\n",
    "\n",
    "contours, _ = cv2.findContours(~binary,cv2.RETR_EXTERNAL,cv2.CHAIN_APPROX_SIMPLE) # find contours\n",
    "areas = [cv2.contourArea(c) for c in contours] # find area of contour\n",
    "avgArea = sum(areas)/len(areas) # finding average area\n",
    "for c in contours:# average area heuristics\n",
    "    if cv2.contourArea(c)>60*avgArea:\n",
    "        cv2.drawContours(mask, [c], -1, 0, -1)\n",
    "binary = cv2.bitwise_and(binary, binary, mask=mask) # subtracting the noise\n",
    "cv2.imwrite('noise.png', mask)\n",
    "cv2.imshow('mask', mask)\n",
    "cv2.imshow('binary_noise_removal', ~binary)\n",
    "cv2.imwrite('binary_noise_removal.png', ~binary)\n",
    "cv2.waitKey(0)\n",
    "cv2.destroyAllWindows()\n",
    "\n"
   ]
  },
  {
   "cell_type": "code",
   "execution_count": 89,
   "metadata": {},
   "outputs": [
    {
     "data": {
      "text/plain": [
       "568480"
      ]
     },
     "execution_count": 89,
     "metadata": {},
     "output_type": "execute_result"
    }
   ],
   "source": [
    "flag.size"
   ]
  },
  {
   "cell_type": "code",
   "execution_count": 86,
   "metadata": {},
   "outputs": [
    {
     "data": {
      "text/plain": [
       "760"
      ]
     },
     "execution_count": 86,
     "metadata": {},
     "output_type": "execute_result"
    }
   ],
   "source": [
    "r"
   ]
  },
  {
   "cell_type": "code",
   "execution_count": 87,
   "metadata": {},
   "outputs": [
    {
     "data": {
      "text/plain": [
       "748"
      ]
     },
     "execution_count": 87,
     "metadata": {},
     "output_type": "execute_result"
    }
   ],
   "source": [
    "c"
   ]
  },
  {
   "cell_type": "code",
   "execution_count": 10,
   "metadata": {},
   "outputs": [
    {
     "data": {
      "text/plain": [
       "0"
      ]
     },
     "execution_count": 10,
     "metadata": {},
     "output_type": "execute_result"
    }
   ],
   "source": [
    "img_dilation[250][100]"
   ]
  },
  {
   "cell_type": "code",
   "execution_count": 7,
   "metadata": {},
   "outputs": [
    {
     "data": {
      "text/plain": [
       "255"
      ]
     },
     "execution_count": 7,
     "metadata": {},
     "output_type": "execute_result"
    }
   ],
   "source": [
    "flag = np.ones(gray.shape[:2], dtype=\"uint8\") * 255 \n",
    "flag[759][747]"
   ]
  },
  {
   "cell_type": "code",
   "execution_count": null,
   "metadata": {},
   "outputs": [],
   "source": []
  }
 ],
 "metadata": {
  "kernelspec": {
   "display_name": "Python 3",
   "language": "python",
   "name": "python3"
  },
  "language_info": {
   "codemirror_mode": {
    "name": "ipython",
    "version": 3
   },
   "file_extension": ".py",
   "mimetype": "text/x-python",
   "name": "python",
   "nbconvert_exporter": "python",
   "pygments_lexer": "ipython3",
   "version": "3.8.8"
  }
 },
 "nbformat": 4,
 "nbformat_minor": 4
}
